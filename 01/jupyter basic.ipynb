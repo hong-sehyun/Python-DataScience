{
 "cells": [
  {
   "cell_type": "markdown",
   "id": "f6c27b21",
   "metadata": {},
   "source": [
    "# 주피터 노트북 사용법\n",
    "* shift + enter 다음 셀 이동\n",
    "* enter 편집상태로 돌아옴\n",
    "* ESC 선택 해제\n",
    "* a 위에 셀 추가\n",
    "* b 아래에 셀 추가\n",
    "* dd 셀 삭제\n",
    "* m 마크다운 셀로 변경\n",
    "* y 코드 셀 변경\n",
    "* h 키보드 단축키 확인\n",
    "\n",
    "* Kernel > Restart & Clear Output 출력을 사라지게 함(Run All 사용가능)\n",
    "\n",
    "* Nbextensions\n",
    "    * Table of Contents 마크다운 실행시 컨텐츠에 대한 인덱스 확인 가능\n",
    "\n",
    "## 마크 다운이란?\n",
    "* 코드와 함께 문서화를 할 수 있습니다.\n",
    "* 문서화를 할 수 있는 문법입니다.\n",
    "```\n",
    "여러 줄의 설명을 \n",
    "줄바꿈으로 쓰고자 할 때\n",
    "```"
   ]
  },
  {
   "cell_type": "code",
   "execution_count": 3,
   "id": "6717c6ef",
   "metadata": {},
   "outputs": [
    {
     "name": "stdout",
     "output_type": "stream",
     "text": [
      "Hello World\n"
     ]
    }
   ],
   "source": [
    "print(\"Hello World\")"
   ]
  }
 ],
 "metadata": {
  "kernelspec": {
   "display_name": "Python 3 (ipykernel)",
   "language": "python",
   "name": "python3"
  },
  "language_info": {
   "codemirror_mode": {
    "name": "ipython",
    "version": 3
   },
   "file_extension": ".py",
   "mimetype": "text/x-python",
   "name": "python",
   "nbconvert_exporter": "python",
   "pygments_lexer": "ipython3",
   "version": "3.10.9"
  }
 },
 "nbformat": 4,
 "nbformat_minor": 5
}
