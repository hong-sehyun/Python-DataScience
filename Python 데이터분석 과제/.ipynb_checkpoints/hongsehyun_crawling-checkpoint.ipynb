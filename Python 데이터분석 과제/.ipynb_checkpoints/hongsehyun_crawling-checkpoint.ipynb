{
 "cells": [
  {
   "cell_type": "markdown",
   "id": "a77dbeba",
   "metadata": {},
   "source": [
    "# Python 데이터 처리분석 과제 홍세현\n",
    "\n",
    "- 주식 업종별 전일대비 등락률\n",
    "\n",
    "\n",
    "## 1. 웹크롤링(전처리, csv파일) "
   ]
  },
  {
   "cell_type": "code",
   "execution_count": 138,
   "id": "159fea24",
   "metadata": {},
   "outputs": [
    {
     "data": {
      "text/plain": [
       "200"
      ]
     },
     "execution_count": 138,
     "metadata": {},
     "output_type": "execute_result"
    }
   ],
   "source": [
    "import requests\n",
    "from bs4 import BeautifulSoup\n",
    "import pandas as pd\n",
    "import matplotlib.pyplot as plt\n",
    "\n",
    "headers = {'User-Agent': 'Mozilla/5.0 (Windows NT 10.0; Win64; x64) AppleWebKit/537.36 (KHTML, like Gecko) Chrome/114.0.0.0 Safari/537.36'}\n",
    "\n",
    "url = \"https://finance.naver.com/sise/sise_group.naver?type=upjong\"\n",
    "\n",
    "r = requests.get(url, headers=headers)\n",
    "\n",
    "r.status_code"
   ]
  },
  {
   "cell_type": "code",
   "execution_count": 139,
   "id": "eda5b2e4",
   "metadata": {},
   "outputs": [
    {
     "name": "stdout",
     "output_type": "stream",
     "text": [
      "['전기장비', '판매업체', '무역회사와판매업체', '자동차부품', '전기유틸리티', '디스플레이장비및부품', '교육서비스', '출판', '전문소매', '건강관리기술']\n",
      "['+4.46%', '+3.49%', '+3.15%', '+3.10%', '+2.45%', '-0.90%', '-0.95%', '-1.09%', '-1.18%', '-9.01%']\n"
     ]
    }
   ],
   "source": [
    "soup = BeautifulSoup(r.text, 'html.parser')\n",
    "stock_info = soup.find_all('tr')\n",
    "\n",
    "sectors = []\n",
    "changes = []\n",
    "\n",
    "for info in stock_info[2:129]: \n",
    "    stock = info.find_all(\"td\")\n",
    "    if len(stock) >= 2:\n",
    "        sector = stock[0].text.strip()\n",
    "        change = stock[1].text.strip()\n",
    "\n",
    "        change_value = float(change.rstrip('%'))\n",
    "        if not (-0.89 <= change_value <= 2.4):\n",
    "            sectors.append(sector)\n",
    "            changes.append(change)\n",
    "\n",
    "print(sectors)\n",
    "print(changes)"
   ]
  },
  {
   "cell_type": "code",
   "execution_count": 140,
   "id": "72ab67ca",
   "metadata": {},
   "outputs": [
    {
     "data": {
      "text/html": [
       "<div>\n",
       "<style scoped>\n",
       "    .dataframe tbody tr th:only-of-type {\n",
       "        vertical-align: middle;\n",
       "    }\n",
       "\n",
       "    .dataframe tbody tr th {\n",
       "        vertical-align: top;\n",
       "    }\n",
       "\n",
       "    .dataframe thead th {\n",
       "        text-align: right;\n",
       "    }\n",
       "</style>\n",
       "<table border=\"1\" class=\"dataframe\">\n",
       "  <thead>\n",
       "    <tr style=\"text-align: right;\">\n",
       "      <th></th>\n",
       "      <th>업종명</th>\n",
       "      <th>등락률</th>\n",
       "    </tr>\n",
       "  </thead>\n",
       "  <tbody>\n",
       "    <tr>\n",
       "      <th>0</th>\n",
       "      <td>전기장비</td>\n",
       "      <td>+4.46%</td>\n",
       "    </tr>\n",
       "    <tr>\n",
       "      <th>1</th>\n",
       "      <td>판매업체</td>\n",
       "      <td>+3.49%</td>\n",
       "    </tr>\n",
       "    <tr>\n",
       "      <th>2</th>\n",
       "      <td>무역회사와판매업체</td>\n",
       "      <td>+3.15%</td>\n",
       "    </tr>\n",
       "    <tr>\n",
       "      <th>3</th>\n",
       "      <td>자동차부품</td>\n",
       "      <td>+3.10%</td>\n",
       "    </tr>\n",
       "    <tr>\n",
       "      <th>4</th>\n",
       "      <td>전기유틸리티</td>\n",
       "      <td>+2.45%</td>\n",
       "    </tr>\n",
       "    <tr>\n",
       "      <th>5</th>\n",
       "      <td>디스플레이장비및부품</td>\n",
       "      <td>-0.90%</td>\n",
       "    </tr>\n",
       "    <tr>\n",
       "      <th>6</th>\n",
       "      <td>교육서비스</td>\n",
       "      <td>-0.95%</td>\n",
       "    </tr>\n",
       "    <tr>\n",
       "      <th>7</th>\n",
       "      <td>출판</td>\n",
       "      <td>-1.09%</td>\n",
       "    </tr>\n",
       "    <tr>\n",
       "      <th>8</th>\n",
       "      <td>전문소매</td>\n",
       "      <td>-1.18%</td>\n",
       "    </tr>\n",
       "    <tr>\n",
       "      <th>9</th>\n",
       "      <td>건강관리기술</td>\n",
       "      <td>-9.01%</td>\n",
       "    </tr>\n",
       "  </tbody>\n",
       "</table>\n",
       "</div>"
      ],
      "text/plain": [
       "          업종명     등락률\n",
       "0        전기장비  +4.46%\n",
       "1        판매업체  +3.49%\n",
       "2   무역회사와판매업체  +3.15%\n",
       "3       자동차부품  +3.10%\n",
       "4      전기유틸리티  +2.45%\n",
       "5  디스플레이장비및부품  -0.90%\n",
       "6       교육서비스  -0.95%\n",
       "7          출판  -1.09%\n",
       "8        전문소매  -1.18%\n",
       "9      건강관리기술  -9.01%"
      ]
     },
     "execution_count": 140,
     "metadata": {},
     "output_type": "execute_result"
    }
   ],
   "source": [
    "df = pd.DataFrame(\n",
    "    {\n",
    "        \"업종명\":sectors,\n",
    "        \"등락률\":changes\n",
    "    }\n",
    ")\n",
    "df"
   ]
  },
  {
   "cell_type": "markdown",
   "id": "902d4d86",
   "metadata": {},
   "source": [
    "## 2. 데이터 분석(그래프)"
   ]
  },
  {
   "cell_type": "code",
   "execution_count": 159,
   "id": "e3745422",
   "metadata": {},
   "outputs": [],
   "source": [
    "df.to_csv('hongsehyun_stockinfo.csv', index=False)"
   ]
  },
  {
   "cell_type": "code",
   "execution_count": 162,
   "id": "4bf1640e",
   "metadata": {},
   "outputs": [],
   "source": [
    "#df = pd.read_csv('hongsehyun_stockinfo.csv', encoding='CP949')\n",
    "df = pd.read_excel('hongsehyun_stockinfo.xlsx')"
   ]
  },
  {
   "cell_type": "code",
   "execution_count": 163,
   "id": "b4b5bfb8",
   "metadata": {},
   "outputs": [
    {
     "data": {
      "image/png": "[encoded data removed]",
      "text/plain": [
       "<Figure size 640x480 with 1 Axes>"
      ]
     },
     "metadata": {},
     "output_type": "display_data"
    }
   ],
   "source": [
    "plt.bar(df['업종명'], df['등락률'])\n",
    "plt.xlabel('업종명')\n",
    "plt.ylabel('등락률 (%)')\n",
    "plt.xticks(rotation=90)\n",
    "plt.title('Stock Market Sector Changes')\n",
    "plt.show()"
   ]
  }
 ],
 "metadata": {
  "kernelspec": {
   "display_name": "Python 3 (ipykernel)",
   "language": "python",
   "name": "python3"
  },
  "language_info": {
   "codemirror_mode": {
    "name": "ipython",
    "version": 3
   },
   "file_extension": ".py",
   "mimetype": "text/x-python",
   "name": "python",
   "nbconvert_exporter": "python",
   "pygments_lexer": "ipython3",
   "version": "3.10.9"
  }
 },
 "nbformat": 4,
 "nbformat_minor": 5
}
