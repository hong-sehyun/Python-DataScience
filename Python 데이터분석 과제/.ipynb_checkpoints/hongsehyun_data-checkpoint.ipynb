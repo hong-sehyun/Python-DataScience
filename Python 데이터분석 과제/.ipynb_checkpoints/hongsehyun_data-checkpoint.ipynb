{
 "cells": [
  {
   "cell_type": "code",
   "execution_count": 38,
   "id": "0eede84e",
   "metadata": {},
   "outputs": [],
   "source": [
    "import requests\n",
    "from bs4 import BeautifulSoup\n",
    "import pandas as pd\n",
    "import matplotlib.pyplot as plt"
   ]
  },
  {
   "cell_type": "code",
   "execution_count": 42,
   "id": "54986a2a",
   "metadata": {},
   "outputs": [],
   "source": [
    "#df = pd.read_excel('hongsehyun_stockinfo.xlsx')\n",
    "df = pd.read_csv('hongsehyun_stockinfo1.csv',encoding='CP949')"
   ]
  },
  {
   "cell_type": "code",
   "execution_count": null,
   "id": "3c0ec8b7",
   "metadata": {},
   "outputs": [],
   "source": []
  },
  {
   "cell_type": "code",
   "execution_count": 44,
   "id": "1d378dd8",
   "metadata": {},
   "outputs": [
    {
     "name": "stderr",
     "output_type": "stream",
     "text": [
      "C:\\Temp\\ipykernel_63500\\927624325.py:8: UserWarning: Glyph 51204 (\\N{HANGUL SYLLABLE JEON}) missing from current font.\n",
      "  plt.tight_layout()\n",
      "C:\\Temp\\ipykernel_63500\\927624325.py:8: UserWarning: Glyph 44592 (\\N{HANGUL SYLLABLE GI}) missing from current font.\n",
      "  plt.tight_layout()\n",
      "C:\\Temp\\ipykernel_63500\\927624325.py:8: UserWarning: Glyph 51109 (\\N{HANGUL SYLLABLE JANG}) missing from current font.\n",
      "  plt.tight_layout()\n",
      "C:\\Temp\\ipykernel_63500\\927624325.py:8: UserWarning: Glyph 48708 (\\N{HANGUL SYLLABLE BI}) missing from current font.\n",
      "  plt.tight_layout()\n",
      "C:\\Temp\\ipykernel_63500\\927624325.py:8: UserWarning: Glyph 54032 (\\N{HANGUL SYLLABLE PAN}) missing from current font.\n",
      "  plt.tight_layout()\n",
      "C:\\Temp\\ipykernel_63500\\927624325.py:8: UserWarning: Glyph 47588 (\\N{HANGUL SYLLABLE MAE}) missing from current font.\n",
      "  plt.tight_layout()\n",
      "C:\\Temp\\ipykernel_63500\\927624325.py:8: UserWarning: Glyph 50629 (\\N{HANGUL SYLLABLE EOB}) missing from current font.\n",
      "  plt.tight_layout()\n",
      "C:\\Temp\\ipykernel_63500\\927624325.py:8: UserWarning: Glyph 52404 (\\N{HANGUL SYLLABLE CE}) missing from current font.\n",
      "  plt.tight_layout()\n",
      "C:\\Temp\\ipykernel_63500\\927624325.py:8: UserWarning: Glyph 47924 (\\N{HANGUL SYLLABLE MU}) missing from current font.\n",
      "  plt.tight_layout()\n",
      "C:\\Temp\\ipykernel_63500\\927624325.py:8: UserWarning: Glyph 50669 (\\N{HANGUL SYLLABLE YEOG}) missing from current font.\n",
      "  plt.tight_layout()\n",
      "C:\\Temp\\ipykernel_63500\\927624325.py:8: UserWarning: Glyph 54924 (\\N{HANGUL SYLLABLE HOE}) missing from current font.\n",
      "  plt.tight_layout()\n",
      "C:\\Temp\\ipykernel_63500\\927624325.py:8: UserWarning: Glyph 49324 (\\N{HANGUL SYLLABLE SA}) missing from current font.\n",
      "  plt.tight_layout()\n",
      "C:\\Temp\\ipykernel_63500\\927624325.py:8: UserWarning: Glyph 50752 (\\N{HANGUL SYLLABLE WA}) missing from current font.\n",
      "  plt.tight_layout()\n",
      "C:\\Temp\\ipykernel_63500\\927624325.py:8: UserWarning: Glyph 51088 (\\N{HANGUL SYLLABLE JA}) missing from current font.\n",
      "  plt.tight_layout()\n",
      "C:\\Temp\\ipykernel_63500\\927624325.py:8: UserWarning: Glyph 46041 (\\N{HANGUL SYLLABLE DONG}) missing from current font.\n",
      "  plt.tight_layout()\n",
      "C:\\Temp\\ipykernel_63500\\927624325.py:8: UserWarning: Glyph 52264 (\\N{HANGUL SYLLABLE CA}) missing from current font.\n",
      "  plt.tight_layout()\n",
      "C:\\Temp\\ipykernel_63500\\927624325.py:8: UserWarning: Glyph 48512 (\\N{HANGUL SYLLABLE BU}) missing from current font.\n",
      "  plt.tight_layout()\n",
      "C:\\Temp\\ipykernel_63500\\927624325.py:8: UserWarning: Glyph 54408 (\\N{HANGUL SYLLABLE PUM}) missing from current font.\n",
      "  plt.tight_layout()\n",
      "C:\\Temp\\ipykernel_63500\\927624325.py:8: UserWarning: Glyph 50976 (\\N{HANGUL SYLLABLE YU}) missing from current font.\n",
      "  plt.tight_layout()\n",
      "C:\\Temp\\ipykernel_63500\\927624325.py:8: UserWarning: Glyph 54008 (\\N{HANGUL SYLLABLE TIL}) missing from current font.\n",
      "  plt.tight_layout()\n",
      "C:\\Temp\\ipykernel_63500\\927624325.py:8: UserWarning: Glyph 47532 (\\N{HANGUL SYLLABLE RI}) missing from current font.\n",
      "  plt.tight_layout()\n",
      "C:\\Temp\\ipykernel_63500\\927624325.py:8: UserWarning: Glyph 54000 (\\N{HANGUL SYLLABLE TI}) missing from current font.\n",
      "  plt.tight_layout()\n",
      "C:\\Temp\\ipykernel_63500\\927624325.py:8: UserWarning: Glyph 46356 (\\N{HANGUL SYLLABLE DI}) missing from current font.\n",
      "  plt.tight_layout()\n",
      "C:\\Temp\\ipykernel_63500\\927624325.py:8: UserWarning: Glyph 49828 (\\N{HANGUL SYLLABLE SEU}) missing from current font.\n",
      "  plt.tight_layout()\n",
      "C:\\Temp\\ipykernel_63500\\927624325.py:8: UserWarning: Glyph 54540 (\\N{HANGUL SYLLABLE PEUL}) missing from current font.\n",
      "  plt.tight_layout()\n",
      "C:\\Temp\\ipykernel_63500\\927624325.py:8: UserWarning: Glyph 47112 (\\N{HANGUL SYLLABLE RE}) missing from current font.\n",
      "  plt.tight_layout()\n",
      "C:\\Temp\\ipykernel_63500\\927624325.py:8: UserWarning: Glyph 51060 (\\N{HANGUL SYLLABLE I}) missing from current font.\n",
      "  plt.tight_layout()\n",
      "C:\\Temp\\ipykernel_63500\\927624325.py:8: UserWarning: Glyph 48143 (\\N{HANGUL SYLLABLE MIC}) missing from current font.\n",
      "  plt.tight_layout()\n",
      "C:\\Temp\\ipykernel_63500\\927624325.py:8: UserWarning: Glyph 44368 (\\N{HANGUL SYLLABLE GYO}) missing from current font.\n",
      "  plt.tight_layout()\n",
      "C:\\Temp\\ipykernel_63500\\927624325.py:8: UserWarning: Glyph 50977 (\\N{HANGUL SYLLABLE YUG}) missing from current font.\n",
      "  plt.tight_layout()\n",
      "C:\\Temp\\ipykernel_63500\\927624325.py:8: UserWarning: Glyph 49436 (\\N{HANGUL SYLLABLE SEO}) missing from current font.\n",
      "  plt.tight_layout()\n",
      "C:\\Temp\\ipykernel_63500\\927624325.py:8: UserWarning: Glyph 52636 (\\N{HANGUL SYLLABLE CUL}) missing from current font.\n",
      "  plt.tight_layout()\n",
      "C:\\Temp\\ipykernel_63500\\927624325.py:8: UserWarning: Glyph 47928 (\\N{HANGUL SYLLABLE MUN}) missing from current font.\n",
      "  plt.tight_layout()\n",
      "C:\\Temp\\ipykernel_63500\\927624325.py:8: UserWarning: Glyph 49548 (\\N{HANGUL SYLLABLE SO}) missing from current font.\n",
      "  plt.tight_layout()\n",
      "C:\\Temp\\ipykernel_63500\\927624325.py:8: UserWarning: Glyph 44148 (\\N{HANGUL SYLLABLE GEON}) missing from current font.\n",
      "  plt.tight_layout()\n",
      "C:\\Temp\\ipykernel_63500\\927624325.py:8: UserWarning: Glyph 44053 (\\N{HANGUL SYLLABLE GANG}) missing from current font.\n",
      "  plt.tight_layout()\n",
      "C:\\Temp\\ipykernel_63500\\927624325.py:8: UserWarning: Glyph 44288 (\\N{HANGUL SYLLABLE GWAN}) missing from current font.\n",
      "  plt.tight_layout()\n",
      "C:\\Temp\\ipykernel_63500\\927624325.py:8: UserWarning: Glyph 49696 (\\N{HANGUL SYLLABLE SUL}) missing from current font.\n",
      "  plt.tight_layout()\n",
      "C:\\Temp\\ipykernel_63500\\927624325.py:8: UserWarning: Glyph 51333 (\\N{HANGUL SYLLABLE JONG}) missing from current font.\n",
      "  plt.tight_layout()\n",
      "C:\\Temp\\ipykernel_63500\\927624325.py:8: UserWarning: Glyph 47749 (\\N{HANGUL SYLLABLE MYEONG}) missing from current font.\n",
      "  plt.tight_layout()\n",
      "C:\\Temp\\ipykernel_63500\\927624325.py:8: UserWarning: Glyph 46321 (\\N{HANGUL SYLLABLE DEUNG}) missing from current font.\n",
      "  plt.tight_layout()\n",
      "C:\\Temp\\ipykernel_63500\\927624325.py:8: UserWarning: Glyph 46973 (\\N{HANGUL SYLLABLE RAG}) missing from current font.\n",
      "  plt.tight_layout()\n",
      "C:\\Temp\\ipykernel_63500\\927624325.py:8: UserWarning: Glyph 47456 (\\N{HANGUL SYLLABLE RYUL}) missing from current font.\n",
      "  plt.tight_layout()\n"
     ]
    },
    {
     "data": {
      "image/png": "[encoded data removed]",
      "text/plain": [
       "<Figure size 1200x600 with 1 Axes>"
      ]
     },
     "metadata": {},
     "output_type": "display_data"
    }
   ],
   "source": [
    "\n",
    "# 바 차트 그리기\n",
    "plt.figure(figsize=(12, 6))\n",
    "plt.bar(df['업종명'], df['등락률'])\n",
    "plt.xlabel('업종명')\n",
    "plt.ylabel('등락률 (%)')\n",
    "plt.xticks(rotation=90)\n",
    "plt.title('Stock Market Sector Changes')\n",
    "plt.tight_layout()\n",
    "plt.show()"
   ]
  },
  {
   "cell_type": "code",
   "execution_count": null,
   "id": "54f48bcb",
   "metadata": {},
   "outputs": [],
   "source": []
  }
 ],
 "metadata": {
  "kernelspec": {
   "display_name": "Python 3 (ipykernel)",
   "language": "python",
   "name": "python3"
  },
  "language_info": {
   "codemirror_mode": {
    "name": "ipython",
    "version": 3
   },
   "file_extension": ".py",
   "mimetype": "text/x-python",
   "name": "python",
   "nbconvert_exporter": "python",
   "pygments_lexer": "ipython3",
   "version": "3.10.9"
  }
 },
 "nbformat": 4,
 "nbformat_minor": 5
}
